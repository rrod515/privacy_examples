{
 "cells": [
  {
   "cell_type": "markdown",
   "metadata": {},
   "source": [
    "This jupyter notebook will give a short example of how differential privacy without post-processing is quite easy to handle for something as simple as a count that is the sum of noisy (protected) sub-counts."
   ]
  },
  {
   "cell_type": "code",
   "execution_count": 19,
   "metadata": {},
   "outputs": [],
   "source": [
    "#Loading Python modules\n",
    "import numpy as np\n",
    "import pandas as pd"
   ]
  },
  {
   "cell_type": "markdown",
   "metadata": {},
   "source": [
    "Let's consider a city of about 8000 people in 2010: Montpelier, VT.\n",
    "\n",
    "Here are the block populations of the city, courtesy of [data.census.gov](data.census.gov) and a [tract map of Washington County, Vermont](https://www2.census.gov/geo/maps/dc10map/tract/st50_vt/c50023_washington/DC10CT_C50023_001.pdf):"
   ]
  },
  {
   "cell_type": "code",
   "execution_count": 20,
   "metadata": {},
   "outputs": [],
   "source": [
    "#Montpelier block populations, courtesy of data.census.gov and a tract map of the city:\n",
    "mtplr = [80, 13, 0, 37, 0, 204, 2, 20, 0, 13, 25, 0, 0, 0,\n",
    "         16, 9, 0, 0, 0, 0, 11, 92, 0, 34, 0, 0, 0, 75, 15,\n",
    "         0, 50, 0, 0, 425, 0, 8, 0, 0, 0, 70, 56, 29, 5, 0,\n",
    "         33, 0, 0, 0, 0, 50, 25, 0, 56, 46, 207, 0, 92, 22, 1,\n",
    "         0, 34, 84, 0, 82, 1, 78, 67, 0, 45, 0, 6, 3, 0, 0,\n",
    "         0, 17, 0, 15, 10, 0, 0, 25, 0, 38, 0, 218, 0, 12, 0,\n",
    "         40, 0, 34, 0, 0, 86, 124, 0, 5, 23, 223, 0, 270, 0,\n",
    "         0, 0, 0, 0, 127, 0, 31, 24, 0, 0, 57, 15, 24, 42, 0,\n",
    "         0, 36, 0, 0, 0, 9, 0, 0, 0, 57, 35, 46, 0, 245, 39,\n",
    "         137, 0, 23, 34, 0, 0, 18, 67, 35, 32, 46, 14, 15, 0,\n",
    "         159, 23, 5, 19, 54, 165, 17, 103, 94, 46, 96, 75, 0,\n",
    "         51, 0, 74, 29, 14, 6, 46, 153, 111, 0, 11, 45, 0, 0,\n",
    "         4, 0, 14, 0, 0, 8, 0, 0, 87, 0, 3, 13, 0, 0, 11,\n",
    "         45, 0, 9, 0, 0, 0, 0, 13, 0, 0, 4, 2, 0, 0, 0,\n",
    "         58, 21, 357, 0, 60, 66, 30, 0, 0, 0, 0, 0, 0, 14,\n",
    "         360, 0, 0, 0, 59, 0, 0, 0, 51, 0, 0, 6, 0, 0, 0,\n",
    "         48, 0, 290, 0, 0, 74, 0, 49, 0, 2, 0, 28, 22, 0, 0,\n",
    "         0, 0, 0, 0, 0, 82, 0]\n",
    "mtplr = np.array(mtplr)"
   ]
  },
  {
   "cell_type": "markdown",
   "metadata": {},
   "source": [
    "We now have the population of each block in Montpelier in 2010. Let's verify that the sum of the block populations [equals the total city population in 2010](https://data.census.gov/cedsci/table?q=Montpelier&g=1600000US5046000&hidePreview=false&tid=DECENNIALSF12010.P1&vintage=2018&layer=VT_2018_160_00_PY_D1&cid=DP05_0001E):"
   ]
  },
  {
   "cell_type": "code",
   "execution_count": 21,
   "metadata": {},
   "outputs": [
    {
     "name": "stdout",
     "output_type": "stream",
     "text": [
      "7855\n"
     ]
    }
   ],
   "source": [
    "print(mtplr.sum())"
   ]
  },
  {
   "cell_type": "markdown",
   "metadata": {},
   "source": [
    "We'll now show how you get absolutely intelligble and reasonable output for the population of Montepelier using a basic diffentially private mechanism on the block populations, if you *do no post-processing*.\n",
    "\n",
    "The current 2010 demonstration products give 0.12 budget to each block. Of that per-block budget, 30% goes to the total population. That gives us 0.12 x 0.30 = 0.036 privacy-loss budget for a given block population."
   ]
  },
  {
   "cell_type": "code",
   "execution_count": 22,
   "metadata": {},
   "outputs": [
    {
     "name": "stdout",
     "output_type": "stream",
     "text": [
      "0.036\n"
     ]
    }
   ],
   "source": [
    "block_pop_budget = 0.12 * 0.3\n",
    "print(block_pop_budget)"
   ]
  },
  {
   "cell_type": "markdown",
   "metadata": {},
   "source": [
    "To make the block populations differentially private<sup>1</sup>, we can add Laplace noise with scale $\\frac{1}{0.036}$ to the population of each block. A natural first question is then: what's the distribution of the population of Montpelier based upon adding up these noisy blocks *without* any post-processing? Let's do this 10,000 times and get a boxplot."
   ]
  },
  {
   "cell_type": "code",
   "execution_count": 23,
   "metadata": {},
   "outputs": [
    {
     "data": {
      "image/png": "[encoded data removed]",
      "text/plain": [
       "<Figure size 1080x720 with 1 Axes>"
      ]
     },
     "metadata": {
      "needs_background": "light"
     },
     "output_type": "display_data"
    }
   ],
   "source": [
    "mtplr_totals = np.array([(mtplr + np.random.laplace(0, 1/block_pop_budget, len(mtplr))).sum()\n",
    "                         for x in range(100000)])\n",
    "ax = pd.DataFrame({'tot': mtplr_totals}).boxplot(figsize=(15,10))"
   ]
  },
  {
   "cell_type": "markdown",
   "metadata": {},
   "source": [
    "Let's note a few things:"
   ]
  },
  {
   "cell_type": "markdown",
   "metadata": {},
   "source": [
    "- The distribution is unbiased for the population of the city (with tolerance for only taking 10,000 draws)"
   ]
  },
  {
   "cell_type": "code",
   "execution_count": 24,
   "metadata": {},
   "outputs": [
    {
     "name": "stdout",
     "output_type": "stream",
     "text": [
      "[7855, 7855.380964509375]\n"
     ]
    }
   ],
   "source": [
    "print([mtplr.sum(), mtplr_totals.mean()])"
   ]
  },
  {
   "cell_type": "markdown",
   "metadata": {},
   "source": [
    "- The observed standard deviation of the city population is very close to the theoretical value expected by adding the block-level variances: $\\sqrt{\\frac{2*\\mbox{number_of_blocks}}{\\mbox{budget}^2}}$"
   ]
  },
  {
   "cell_type": "code",
   "execution_count": 25,
   "metadata": {},
   "outputs": [
    {
     "name": "stdout",
     "output_type": "stream",
     "text": [
      "[627.5426774307816, 627.3105439242343]\n"
     ]
    }
   ],
   "source": [
    "print([mtplr_totals.std(), np.sqrt(2*len(mtplr)/block_pop_budget/block_pop_budget)])"
   ]
  },
  {
   "cell_type": "markdown",
   "metadata": {},
   "source": [
    "- We can tell the mayor of the town **useful** things, including:\n",
    "    - There is a ~50% chance that your pop will change by more than 425 people\n",
    "    - There is a ~10% change that your pop will change by more than 810 people\n",
    "    - There is a ~1% change that your pop will change by more than 1500 people"
   ]
  },
  {
   "cell_type": "code",
   "execution_count": 26,
   "metadata": {},
   "outputs": [
    {
     "name": "stdout",
     "output_type": "stream",
     "text": [
      "[421.90878572]\n",
      "[804.83233949]\n",
      "[1459.25505026]\n"
     ]
    }
   ],
   "source": [
    "print(np.diff(np.quantile(mtplr_totals, [0.25, 0.75]))/2)\n",
    "print(np.diff(np.quantile(mtplr_totals, [0.10, 0.90]))/2)\n",
    "print(np.diff(np.quantile(mtplr_totals, [0.01, 0.99]))/2)"
   ]
  },
  {
   "cell_type": "markdown",
   "metadata": {},
   "source": [
    "With a bit more legwork, we should be able to compute the above numbers exactly just as with the standard deviation. In fact, the above calculations work if you consider **only the number of blocks**! The population of the city or of each block doesn't matter!"
   ]
  },
  {
   "cell_type": "code",
   "execution_count": 27,
   "metadata": {
    "scrolled": true
   },
   "outputs": [
    {
     "name": "stdout",
     "output_type": "stream",
     "text": [
      "[423.78200232]\n",
      "[802.5469463]\n",
      "[1460.43091288]\n"
     ]
    }
   ],
   "source": [
    "nblocks = len(mtplr)\n",
    "total_block_noise = np.array([np.random.laplace(0, 1/block_pop_budget, nblocks).sum() for x in range(100000)])\n",
    "print(np.diff(np.quantile(total_block_noise, [0.25, 0.75]))/2)\n",
    "print(np.diff(np.quantile(total_block_noise, [0.10, 0.90]))/2)\n",
    "print(np.diff(np.quantile(total_block_noise, [0.01, 0.99]))/2)"
   ]
  },
  {
   "cell_type": "markdown",
   "metadata": {},
   "source": [
    "What this means is that any city with the *same number of blocks* as Montpelier can expect the same kinds of results for their city population change due to adding up noisy blocks under this mechanism with no post-processing. Taking it further, this shows that smaller cities with lots of blocks will get more relative noise in this regime. But that makes sense, because if a small city has lots of blocks, then those blocks **can't be highly populated**, which means that block-level statistics are more likely to lead to issues, like uniqueness, that can aid re-identification and reconstruction."
   ]
  },
  {
   "cell_type": "markdown",
   "metadata": {},
   "source": [
    "All of these results become extremely hard or impossible to prove or even quantify if you start doing post-processing, including:\n",
    "- Controlling any of the block totals or the city total to another count\n",
    "- Controlling any of these counts within a larger optimization system\n",
    "- Any non-data-dependent censoring of extremal values\n",
    "\n",
    "Studying these complications is left as an exercise to the reader..."
   ]
  },
  {
   "cell_type": "code",
   "execution_count": null,
   "metadata": {},
   "outputs": [],
   "source": []
  },
  {
   "cell_type": "code",
   "execution_count": null,
   "metadata": {},
   "outputs": [],
   "source": []
  },
  {
   "cell_type": "markdown",
   "metadata": {},
   "source": [
    "<sup>1</sup> Technically, adding Laplace noise on a computer is only differentially private if you avoid various pitfalls of floating point arithmetic and pseudo-random number generators. We can fix this most easily by using geometric noise instead, with the price of more complicated results for variance, quantiles, etc. This is also left as an exercise for the reader."
   ]
  }
 ],
 "metadata": {
  "kernelspec": {
   "display_name": "Python 3",
   "language": "python",
   "name": "python3"
  },
  "language_info": {
   "codemirror_mode": {
    "name": "ipython",
    "version": 3
   },
   "file_extension": ".py",
   "mimetype": "text/x-python",
   "name": "python",
   "nbconvert_exporter": "python",
   "pygments_lexer": "ipython3",
   "version": "3.7.4"
  }
 },
 "nbformat": 4,
 "nbformat_minor": 2
}
